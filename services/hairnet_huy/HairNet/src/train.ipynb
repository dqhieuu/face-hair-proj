{
 "cells": [
  {
   "cell_type": "code",
   "execution_count": 49,
   "id": "ba8fcf67",
   "metadata": {},
   "outputs": [],
   "source": [
    "import os\n",
    "import time\n",
    "import logging\n",
    "import argparse"
   ]
  },
  {
   "cell_type": "code",
   "execution_count": 50,
   "id": "7d2f231c",
   "metadata": {},
   "outputs": [],
   "source": [
    "import pytorch_lightning as pl\n",
    "import torch\n",
    "import torch.optim as optim\n",
    "from torch.utils.data import DataLoader\n",
    "import matplotlib.pyplot as plt"
   ]
  },
  {
   "cell_type": "code",
   "execution_count": 51,
   "id": "96ffed5f",
   "metadata": {},
   "outputs": [],
   "source": [
    "from dataloader import HairNetDataset\n",
    "from model_rewrite import HairNetModelOriginal, MyLoss, CollisionLoss, CurMSE, PosMSE, HairNetLossRewrite\n",
    "from src.train_new import HairNetLightning"
   ]
  },
  {
   "cell_type": "code",
   "execution_count": 52,
   "id": "cdcd2cef",
   "metadata": {},
   "outputs": [],
   "source": [
    "log = logging.getLogger(\"HairNet\")\n",
    "logging.basicConfig(level=logging.INFO)"
   ]
  },
  {
   "cell_type": "code",
   "execution_count": 53,
   "id": "d59bb416",
   "metadata": {},
   "outputs": [],
   "source": [
    "def get_args():\n",
    "    parser = argparse.ArgumentParser()\n",
    "    parser.add_argument(\"--epoch\", type=int, default=100)\n",
    "    parser.add_argument(\"--batch_size\", type=int, default=32)  # 32\n",
    "    parser.add_argument(\"--lr\", type=float, default=0.0001)\n",
    "    parser.add_argument(\"--lr_step\", type=int, default=50)\n",
    "    parser.add_argument(\"--save_dir\", type=str, default=\"./weight/\")\n",
    "    parser.add_argument(\"--data\", type=str, default=\"..\")\n",
    "    parser.add_argument(\"--weight\", type=str, default=\"\")\n",
    "    parser.add_argument(\"--test_step\", type=int, default=10)\n",
    "    return parser.parse_known_args()"
   ]
  },
  {
   "cell_type": "code",
   "execution_count": 54,
   "id": "8a92f53c",
   "metadata": {},
   "outputs": [],
   "source": [
    "def train(model, dataloader, optimizer, device):\n",
    "    model.train()\n",
    "    my_loss = 1e10\n",
    "    for i, data in enumerate(dataloader, 0):\n",
    "        img, convdata, visweight = data\n",
    "\n",
    "        img = img.to(device)\n",
    "        convdata = convdata.to(device)\n",
    "        visweight = visweight.to(device)\n",
    "        # img (bs, 3, 128, 128); convdata (bs, 100, 4, 32, 32); visweight (bs, 100, 32, 32)\n",
    "\n",
    "        optimizer.zero_grad()\n",
    "\n",
    "        output = net(img)\n",
    "        my_loss = loss(output, convdata, visweight)\n",
    "\n",
    "        my_loss.backward()\n",
    "\n",
    "        optimizer.step()\n",
    "\n",
    "    return my_loss"
   ]
  },
  {
   "cell_type": "code",
   "execution_count": 55,
   "id": "3decc72e",
   "metadata": {},
   "outputs": [],
   "source": [
    "def test(model, dataloader, device):\n",
    "    pos_error = PosMSE().to(device)  # Position Loss\n",
    "    cur_error = CurMSE().to(device)  # Curvature Loss\n",
    "    col_error = CollisionLoss().to(device)  # Collision Loss\n",
    "\n",
    "    # tot_error = MyLoss().to(device)\n",
    "\n",
    "    model.eval()\n",
    "    for i, data in enumerate(dataloader, 0):\n",
    "        img, convdata, visweight = data\n",
    "\n",
    "        img = img.to(device)\n",
    "        convdata = convdata.to(device)\n",
    "        visweight = visweight.to(device)\n",
    "\n",
    "        output = model(img)\n",
    "\n",
    "        # cal loss\n",
    "        pos = pos_error(output, convdata, visweight)\n",
    "        cur = cur_error(output, convdata, visweight)\n",
    "        col = col_error(output, convdata)\n",
    "\n",
    "        tot = pos + cur + col\n",
    "\n",
    "        log.info(\n",
    "            f\"TESTING Epoch {i+1} | Loss[ Pos | Cur | Col | Total ]: \"\n",
    "            f\"[ {pos:.8f} | {cur:.8f} | {col:.8f} | {tot:.8f} ]\"\n",
    "        )\n",
    "\n",
    "    # return pos.item(), cur.item(), col.item(), tot.item()"
   ]
  },
  {
   "cell_type": "code",
   "execution_count": 56,
   "id": "e6cc4b8f",
   "metadata": {
    "collapsed": false
   },
   "outputs": [
    {
     "name": "stderr",
     "output_type": "stream",
     "text": [
      "INFO:HairNet:Training args: Namespace(epoch=100, batch_size=32, lr=0.0001, lr_step=50, save_dir='./weight/', data='..', weight='', test_step=1)\n",
      "INFO:HairNet:Training device: cuda\n",
      "INFO:HairNet:Initializing model and loss function ...\n",
      "INFO:HairNet:Loading data ...\n",
      "INFO:HairNet:Train dataset: 4000 data points\n",
      "INFO:HairNet:Test dataset: 26440 data points\n",
      "INFO:HairNet:Training ...\n"
     ]
    },
    {
     "ename": "RuntimeError",
     "evalue": "Sizes of tensors must match except in dimension 2. Expected size 3 but got size 1 for tensor number 1 in the list.",
     "output_type": "error",
     "traceback": [
      "\u001B[1;31m---------------------------------------------------------------------------\u001B[0m",
      "\u001B[1;31mRuntimeError\u001B[0m                              Traceback (most recent call last)",
      "Cell \u001B[1;32mIn[56], line 63\u001B[0m\n\u001B[0;32m     58\u001B[0m \u001B[38;5;28;01mfor\u001B[39;00m epoch \u001B[38;5;129;01min\u001B[39;00m \u001B[38;5;28mrange\u001B[39m(epochs): \n\u001B[0;32m     59\u001B[0m     \u001B[38;5;66;03m# measure executive time\u001B[39;00m\n\u001B[0;32m     60\u001B[0m     \u001B[38;5;66;03m# torch.cuda.synchronize()\u001B[39;00m\n\u001B[0;32m     61\u001B[0m     since \u001B[38;5;241m=\u001B[39m \u001B[38;5;28mint\u001B[39m(\u001B[38;5;28mround\u001B[39m(time\u001B[38;5;241m.\u001B[39mtime() \u001B[38;5;241m*\u001B[39m \u001B[38;5;241m1000\u001B[39m))\n\u001B[1;32m---> 63\u001B[0m     train_loss \u001B[38;5;241m=\u001B[39m \u001B[43mtrain\u001B[49m\u001B[43m(\u001B[49m\u001B[43mnet\u001B[49m\u001B[43m,\u001B[49m\u001B[43m \u001B[49m\u001B[43mtrain_loader\u001B[49m\u001B[43m,\u001B[49m\u001B[43m \u001B[49m\u001B[43moptimizer\u001B[49m\u001B[43m,\u001B[49m\u001B[43m \u001B[49m\u001B[43mdevice\u001B[49m\u001B[43m)\u001B[49m\n\u001B[0;32m     64\u001B[0m     losses\u001B[38;5;241m.\u001B[39mappend(train_loss\u001B[38;5;241m.\u001B[39mcpu()\u001B[38;5;241m.\u001B[39mdetach())\n\u001B[0;32m     66\u001B[0m     ax\u001B[38;5;241m.\u001B[39mplot(losses)\n",
      "Cell \u001B[1;32mIn[54], line 13\u001B[0m, in \u001B[0;36mtrain\u001B[1;34m(model, dataloader, optimizer, device)\u001B[0m\n\u001B[0;32m      9\u001B[0m \u001B[38;5;66;03m# img (bs, 3, 128, 128); convdata (bs, 100, 4, 32, 32); visweight (bs, 100, 32, 32)\u001B[39;00m\n\u001B[0;32m     11\u001B[0m optimizer\u001B[38;5;241m.\u001B[39mzero_grad()\n\u001B[1;32m---> 13\u001B[0m output \u001B[38;5;241m=\u001B[39m \u001B[43mnet\u001B[49m\u001B[43m(\u001B[49m\u001B[43mimg\u001B[49m\u001B[43m)\u001B[49m\n\u001B[0;32m     14\u001B[0m my_loss \u001B[38;5;241m=\u001B[39m loss(output, convdata, visweight)\n\u001B[0;32m     16\u001B[0m my_loss\u001B[38;5;241m.\u001B[39mbackward()\n",
      "File \u001B[1;32m~\\miniconda3\\lib\\site-packages\\torch\\nn\\modules\\module.py:1130\u001B[0m, in \u001B[0;36mModule._call_impl\u001B[1;34m(self, *input, **kwargs)\u001B[0m\n\u001B[0;32m   1126\u001B[0m \u001B[38;5;66;03m# If we don't have any hooks, we want to skip the rest of the logic in\u001B[39;00m\n\u001B[0;32m   1127\u001B[0m \u001B[38;5;66;03m# this function, and just call forward.\u001B[39;00m\n\u001B[0;32m   1128\u001B[0m \u001B[38;5;28;01mif\u001B[39;00m \u001B[38;5;129;01mnot\u001B[39;00m (\u001B[38;5;28mself\u001B[39m\u001B[38;5;241m.\u001B[39m_backward_hooks \u001B[38;5;129;01mor\u001B[39;00m \u001B[38;5;28mself\u001B[39m\u001B[38;5;241m.\u001B[39m_forward_hooks \u001B[38;5;129;01mor\u001B[39;00m \u001B[38;5;28mself\u001B[39m\u001B[38;5;241m.\u001B[39m_forward_pre_hooks \u001B[38;5;129;01mor\u001B[39;00m _global_backward_hooks\n\u001B[0;32m   1129\u001B[0m         \u001B[38;5;129;01mor\u001B[39;00m _global_forward_hooks \u001B[38;5;129;01mor\u001B[39;00m _global_forward_pre_hooks):\n\u001B[1;32m-> 1130\u001B[0m     \u001B[38;5;28;01mreturn\u001B[39;00m forward_call(\u001B[38;5;241m*\u001B[39m\u001B[38;5;28minput\u001B[39m, \u001B[38;5;241m*\u001B[39m\u001B[38;5;241m*\u001B[39mkwargs)\n\u001B[0;32m   1131\u001B[0m \u001B[38;5;66;03m# Do not call functions when jit is used\u001B[39;00m\n\u001B[0;32m   1132\u001B[0m full_backward_hooks, non_full_backward_hooks \u001B[38;5;241m=\u001B[39m [], []\n",
      "File \u001B[1;32mF:\\ai-hair-research\\hairnet_huy\\HairNet\\src\\model_rewrite.py:62\u001B[0m, in \u001B[0;36mHairNetModel.forward\u001B[1;34m(self, x)\u001B[0m\n\u001B[0;32m     60\u001B[0m positions \u001B[38;5;241m=\u001B[39m \u001B[38;5;28mself\u001B[39m\u001B[38;5;241m.\u001B[39mpositionMLP(x)\n\u001B[0;32m     61\u001B[0m curvatures \u001B[38;5;241m=\u001B[39m \u001B[38;5;28mself\u001B[39m\u001B[38;5;241m.\u001B[39mcurvatureMLP(x)\n\u001B[1;32m---> 62\u001B[0m \u001B[38;5;28;01mreturn\u001B[39;00m \u001B[43mtorch\u001B[49m\u001B[38;5;241;43m.\u001B[39;49m\u001B[43mcat\u001B[49m\u001B[43m(\u001B[49m\u001B[43m[\u001B[49m\u001B[43mpositions\u001B[49m\u001B[43m,\u001B[49m\u001B[43m \u001B[49m\u001B[43mcurvatures\u001B[49m\u001B[43m]\u001B[49m\u001B[43m,\u001B[49m\u001B[43m \u001B[49m\u001B[38;5;241;43m2\u001B[39;49m\u001B[43m)\u001B[49m\n",
      "\u001B[1;31mRuntimeError\u001B[0m: Sizes of tensors must match except in dimension 2. Expected size 3 but got size 1 for tensor number 1 in the list."
     ]
    },
    {
     "data": {
      "image/png": "[encoded data removed]",
      "text/plain": [
       "<Figure size 640x480 with 1 Axes>"
      ]
     },
     "metadata": {},
     "output_type": "display_data"
    }
   ],
   "source": [
    "if __name__ == \"__main__\":\n",
    "    # load parameters\n",
    "    opt, unknown = get_args()\n",
    "    epochs, bs, lr, lr_step, save_dir, data, weight, test_step = (\n",
    "        opt.epoch,\n",
    "        opt.batch_size,\n",
    "        opt.lr,\n",
    "        opt.lr_step,\n",
    "        opt.save_dir,\n",
    "        opt.data,\n",
    "        opt.weight,\n",
    "        opt.test_step,\n",
    "    )\n",
    "\n",
    "    device = torch.device(\"cuda\" if torch.cuda.is_available() else \"cpu\")\n",
    "    log.info(f\"Training args: {opt}\")\n",
    "    log.info(f\"Training device: {device}\")\n",
    "\n",
    "    log.info(\"Initializing model and loss function ...\")\n",
    "\n",
    "    net = HairNetLightning(opt)\n",
    "    \n",
    "\n",
    "    #\n",
    "    # net = HairNetModelOriginal().to(device)\n",
    "    # loss = HairNetLossRewrite().to(device)\n",
    "\n",
    "    if weight != \"\":\n",
    "        log.info(\"Loading model's weight ...\")\n",
    "        net.load_state_dict(torch.load(weight, map_location=torch.device(device)))\n",
    "\n",
    "    # load data\n",
    "    log.info(\"Loading data ...\")\n",
    "    train_data = HairNetDataset(project_dir=data, train_flag=1, noise_flag=1)\n",
    "    train_loader = DataLoader(dataset=train_data, batch_size=bs)\n",
    "    log.info(f\"Train dataset: {len(train_data)} data points\")\n",
    "\n",
    "    if test_step != 0:\n",
    "        test_data = HairNetDataset(project_dir=data, train_flag=0, noise_flag=0)\n",
    "        test_loader = DataLoader(dataset=test_data, batch_size=bs)\n",
    "        log.info(f\"Test dataset: {len(test_data)} data points\")\n",
    "\n",
    "    # setup optimizer & lr schedualer\n",
    "    optimizer = optim.Adam(net.parameters(), lr=lr)\n",
    "    scheduler = optim.lr_scheduler.StepLR(optimizer, step_size=10, gamma=0.5)\n",
    "\n",
    "    if not os.path.exists(save_dir):\n",
    "        os.makedirs(save_dir)\n",
    "\n",
    "    t = time.localtime()\n",
    "    save_path = save_dir + time.strftime(\"%Y_%m_%d_%H_%M_%S\", t)\n",
    "    os.mkdir(save_path)\n",
    "\n",
    "    # train\n",
    "    log.info(\"Training ...\")\n",
    "    pre_loss = 100000\n",
    "\n",
    "    losses = []\n",
    "    fig, ax = plt.subplots()\n",
    "    ax.set_xlabel('Epoch')\n",
    "    ax.set_ylabel('Loss')\n",
    "\n",
    "    for epoch in range(epochs): \n",
    "        # measure executive time\n",
    "        # torch.cuda.synchronize()\n",
    "        since = int(round(time.time() * 1000))\n",
    "\n",
    "        train_loss = train(net, train_loader, optimizer, device)\n",
    "        losses.append(train_loss.cpu().detach())\n",
    "\n",
    "        ax.plot(losses)\n",
    "        fig.canvas.draw()\n",
    "\n",
    "        scheduler.step()\n",
    "\n",
    "        # torch.cuda.synchronize()\n",
    "        time_elapsed = int(round(time.time() * 1000)) - since\n",
    "\n",
    "        # Logging\n",
    "        log.info(\n",
    "            f\"TRAINING Epoch {epoch+1} | Loss: {train_loss:.8f} | time: {time_elapsed}ms\"\n",
    "        )\n",
    "        if test_step != 0 and (epoch + 1) % test_step == 0:\n",
    "            test(net, test_loader, device)\n",
    "\n",
    "        # Save model by performance\n",
    "        if train_loss < pre_loss:\n",
    "            pre_loss = train_loss\n",
    "            torch.save(net.state_dict(), save_path + \"/weight.pt\")"
   ]
  }
 ],
 "metadata": {
  "jupytext": {
   "cell_metadata_filter": "-all",
   "formats": "ipynb,py:light",
   "main_language": "python"
  }
 },
 "nbformat": 4,
 "nbformat_minor": 5
}
